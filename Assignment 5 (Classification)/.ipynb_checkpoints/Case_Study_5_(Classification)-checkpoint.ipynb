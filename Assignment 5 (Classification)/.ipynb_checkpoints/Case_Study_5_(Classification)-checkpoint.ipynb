{
 "cells": [
  {
   "cell_type": "markdown",
   "metadata": {},
   "source": [
    "# Classification"
   ]
  },
  {
   "cell_type": "markdown",
   "metadata": {},
   "source": [
    "##### Import all modules and packages"
   ]
  },
  {
   "cell_type": "code",
   "execution_count": 1,
   "metadata": {},
   "outputs": [],
   "source": [
    "import numpy as np\n",
    "import pandas as pd\n",
    "from sklearn.model_selection import train_test_split\n",
    "from sklearn import preprocessing, svm\n",
    "from sklearn.neighbors import KNeighborsClassifier\n",
    "from sklearn.tree import DecisionTreeClassifier\n",
    "from sklearn.metrics import accuracy_score, mean_squared_error, mean_absolute_error, classification_report,f1_score, confusion_matrix\n",
    "import warnings\n",
    "warnings.filterwarnings('ignore')"
   ]
  },
  {
   "cell_type": "markdown",
   "metadata": {},
   "source": [
    "##### Load data"
   ]
  },
  {
   "cell_type": "code",
   "execution_count": 2,
   "metadata": {},
   "outputs": [],
   "source": [
    "sgData = pd.read_csv(\"listings.csv\")"
   ]
  },
  {
   "cell_type": "markdown",
   "metadata": {},
   "source": [
    "##### Change the not a NaN value in numeric features to zero"
   ]
  },
  {
   "cell_type": "code",
   "execution_count": 3,
   "metadata": {},
   "outputs": [
    {
     "name": "stdout",
     "output_type": "stream",
     "text": [
      "False\n"
     ]
    }
   ],
   "source": [
    "sgDataToZero = sgData.select_dtypes(include=[np.number])\n",
    "sgDataToZero = sgDataToZero.fillna(0)\n",
    "print(sgDataToZero.isna().values.any())"
   ]
  },
  {
   "cell_type": "markdown",
   "metadata": {},
   "source": [
    "##### Find unique entries in \"neighbourhood_group\""
   ]
  },
  {
   "cell_type": "code",
   "execution_count": 4,
   "metadata": {},
   "outputs": [
    {
     "data": {
      "text/plain": [
       "array(['North Region', 'Central Region', 'East Region', 'West Region',\n",
       "       'North-East Region'], dtype=object)"
      ]
     },
     "execution_count": 4,
     "metadata": {},
     "output_type": "execute_result"
    }
   ],
   "source": [
    "sgData.neighbourhood_group.unique()"
   ]
  },
  {
   "cell_type": "markdown",
   "metadata": {},
   "source": [
    "##### Encode each entry into number"
   ]
  },
  {
   "cell_type": "code",
   "execution_count": 5,
   "metadata": {},
   "outputs": [],
   "source": [
    "sgDataY = sgData[[\"neighbourhood_group\"]].values\n",
    "encode=preprocessing.LabelEncoder().fit(['North Region','Central Region','East Region', 'West Region', 'North-East Region'])\n",
    "sgDataY[:,0]=encode.transform(sgDataY[:,0])\n",
    "\n",
    "newSgData = sgDataToZero[[\"latitude\", \"longitude\"]]\n",
    "sgDataY= pd.DataFrame(sgDataY)\n",
    "sgDataY=sgDataY.astype(int)"
   ]
  },
  {
   "cell_type": "markdown",
   "metadata": {},
   "source": [
    "##### Combine sgDataY into newSgData dataframe"
   ]
  },
  {
   "cell_type": "code",
   "execution_count": 6,
   "metadata": {},
   "outputs": [],
   "source": [
    "newSgData = newSgData.assign(neighbourhood_group=sgDataY)"
   ]
  },
  {
   "cell_type": "markdown",
   "metadata": {},
   "source": [
    "##### Split train and test data"
   ]
  },
  {
   "cell_type": "code",
   "execution_count": 7,
   "metadata": {},
   "outputs": [],
   "source": [
    "train,test = train_test_split(newSgData, test_size=0.25)"
   ]
  },
  {
   "cell_type": "markdown",
   "metadata": {},
   "source": [
    "### A.) Using KNN"
   ]
  },
  {
   "cell_type": "markdown",
   "metadata": {},
   "source": [
    "##### Training data with KNeighborsClassifier"
   ]
  },
  {
   "cell_type": "code",
   "execution_count": 8,
   "metadata": {},
   "outputs": [],
   "source": [
    "KNN = KNeighborsClassifier(n_neighbors = 3).fit( train[[\"latitude\", \"longitude\"]], train[\"neighbourhood_group\"])"
   ]
  },
  {
   "cell_type": "markdown",
   "metadata": {},
   "source": [
    "##### Test new data"
   ]
  },
  {
   "cell_type": "code",
   "execution_count": 9,
   "metadata": {},
   "outputs": [
    {
     "name": "stdout",
     "output_type": "stream",
     "text": [
      "[2]\n"
     ]
    }
   ],
   "source": [
    "newClassification = KNN.predict([[1.44,103.8]])\n",
    "print(newClassification)"
   ]
  },
  {
   "cell_type": "markdown",
   "metadata": {},
   "source": [
    "##### Check KNN model"
   ]
  },
  {
   "cell_type": "code",
   "execution_count": 10,
   "metadata": {},
   "outputs": [
    {
     "name": "stdout",
     "output_type": "stream",
     "text": [
      " ACC :  0.9979767324228629\n",
      " MAE :  0.004552352048558422\n",
      " MSE :  0.01163378856853819\n"
     ]
    }
   ],
   "source": [
    "classification = KNN.predict(test[[\"latitude\", \"longitude\"]])\n",
    "accuracy = accuracy_score(test[\"neighbourhood_group\"], classification)\n",
    "MAE = mean_absolute_error(test[\"neighbourhood_group\"], classification)\n",
    "MSE = mean_squared_error(test[\"neighbourhood_group\"], classification)\n",
    "\n",
    "print(\" ACC : \", accuracy)\n",
    "print(\" MAE : \", MAE)\n",
    "print(\" MSE : \", MSE)"
   ]
  },
  {
   "cell_type": "markdown",
   "metadata": {},
   "source": [
    "##### Find best K"
   ]
  },
  {
   "cell_type": "code",
   "execution_count": 11,
   "metadata": {},
   "outputs": [
    {
     "name": "stdout",
     "output_type": "stream",
     "text": [
      "Best  ACC : 1.00 , with k =  6\n"
     ]
    }
   ],
   "source": [
    "Ks = 10\n",
    "accuracy = np.zeros((Ks-1))\n",
    "ConfustionMx = [];\n",
    "for n in range(1, Ks):    \n",
    "    KNN = KNeighborsClassifier(n_neighbors = n).fit(train[[\"latitude\", \"longitude\"]], train[\"neighbourhood_group\"])  \n",
    "    classification = KNN.predict(test[[\"latitude\", \"longitude\"]])\n",
    "    accuracy[n - 1] = accuracy_score(test[\"neighbourhood_group\"], classification)\n",
    "    \n",
    "print(\"Best  ACC : %.2f\" % accuracy.max(), \", with k = \", accuracy.argmax() + 1)"
   ]
  },
  {
   "cell_type": "markdown",
   "metadata": {},
   "source": [
    "### B.) Using Decision Tree"
   ]
  },
  {
   "cell_type": "markdown",
   "metadata": {},
   "source": [
    "##### Training data with DecisionTreeClassifier"
   ]
  },
  {
   "cell_type": "code",
   "execution_count": 12,
   "metadata": {},
   "outputs": [],
   "source": [
    "DST = DecisionTreeClassifier(criterion=\"gini\", max_depth = 10).fit(train[[\"latitude\", \"longitude\"]], train[\"neighbourhood_group\"])"
   ]
  },
  {
   "cell_type": "markdown",
   "metadata": {},
   "source": [
    "##### Test new data"
   ]
  },
  {
   "cell_type": "code",
   "execution_count": 13,
   "metadata": {},
   "outputs": [
    {
     "name": "stdout",
     "output_type": "stream",
     "text": [
      "[2]\n"
     ]
    }
   ],
   "source": [
    "newClassification = DST.predict([[1.44,103.8]])\n",
    "print(newClassification)"
   ]
  },
  {
   "cell_type": "markdown",
   "metadata": {},
   "source": [
    "##### Check Decision Tree model"
   ]
  },
  {
   "cell_type": "code",
   "execution_count": 14,
   "metadata": {},
   "outputs": [
    {
     "name": "stdout",
     "output_type": "stream",
     "text": [
      " ACC :  0.9964592817400101\n",
      " MAE :  0.008598887202832575\n",
      " MSE :  0.02680829539706626\n",
      " F1  :  0.9964549670299\n",
      "              precision    recall  f1-score   support\n",
      "\n",
      "           0       1.00      1.00      1.00      1552\n",
      "           1       0.99      0.99      0.99       145\n",
      "           2       1.00      1.00      1.00        47\n",
      "           3       1.00      0.98      0.99        89\n",
      "           4       0.99      1.00      0.99       144\n",
      "\n",
      "    accuracy                           1.00      1977\n",
      "   macro avg       1.00      0.99      0.99      1977\n",
      "weighted avg       1.00      1.00      1.00      1977\n",
      "\n"
     ]
    }
   ],
   "source": [
    "classification = DST.predict(test[[\"latitude\", \"longitude\"]])\n",
    "accuracy = accuracy_score(test[\"neighbourhood_group\"], classification)\n",
    "MAE = mean_absolute_error(test[\"neighbourhood_group\"], classification)\n",
    "MSE = mean_squared_error(test[\"neighbourhood_group\"], classification)\n",
    "F1  = f1_score(test[\"neighbourhood_group\"], classification, average='weighted') \n",
    "cnf_matrix = confusion_matrix(test[\"neighbourhood_group\"], classification, labels=[0,1,2,3,4])\n",
    "\n",
    "\n",
    "print(\" ACC : \", accuracy)\n",
    "print(\" MAE : \", MAE)\n",
    "print(\" MSE : \", MSE)\n",
    "print(\" F1  : \", F1)\n",
    "print (classification_report(test[\"neighbourhood_group\"], classification))"
   ]
  }
 ],
 "metadata": {
  "kernelspec": {
   "display_name": "Python 3",
   "language": "python",
   "name": "python3"
  },
  "language_info": {
   "codemirror_mode": {
    "name": "ipython",
    "version": 3
   },
   "file_extension": ".py",
   "mimetype": "text/x-python",
   "name": "python",
   "nbconvert_exporter": "python",
   "pygments_lexer": "ipython3",
   "version": "3.8.5"
  }
 },
 "nbformat": 4,
 "nbformat_minor": 4
}
