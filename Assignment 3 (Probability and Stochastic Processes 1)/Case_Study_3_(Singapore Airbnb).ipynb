{
 "cells": [
  {
   "cell_type": "markdown",
   "metadata": {},
   "source": [
    "# Case Study 3 (\"Probability and stochastic processes 1\") "
   ]
  },
  {
   "cell_type": "markdown",
   "metadata": {},
   "source": [
    "### 1. "
   ]
  },
  {
   "cell_type": "markdown",
   "metadata": {},
   "source": [
    "#### Discrete random variables"
   ]
  },
  {
   "cell_type": "markdown",
   "metadata": {},
   "source": [
    "Discrete random variables are variables that can through obtained by counting.\n",
    "So its possible values are countable. \n",
    "Discrete variables in the Airbnb data are minimum_nights and availability_365."
   ]
  },
  {
   "cell_type": "markdown",
   "metadata": {},
   "source": [
    "#### Continuous random variables"
   ]
  },
  {
   "cell_type": "markdown",
   "metadata": {},
   "source": [
    "Continuous random variables are variables whosse values can be obtained through measuring. Continuous variable takes all values in a given interval of numbers. Continuous variables in our Airbnb data are id, host_id, latitude, longitude, price, number_of_reviews, reviews_per_month, calculated_host_listings_count."
   ]
  },
  {
   "cell_type": "markdown",
   "metadata": {},
   "source": [
    "### 2."
   ]
  },
  {
   "cell_type": "code",
   "execution_count": 9,
   "metadata": {},
   "outputs": [],
   "source": [
    "import pandas as pd\n",
    "import numpy as np\n",
    "import matplotlib.pyplot as plt\n",
    "from sklearn import linear_model\n",
    "from sklearn.model_selection import train_test_split\n",
    "from sklearn.metrics import r2_score, mean_squared_error, mean_absolute_error"
   ]
  },
  {
   "cell_type": "markdown",
   "metadata": {},
   "source": [
    "#### Load data from csv"
   ]
  },
  {
   "cell_type": "code",
   "execution_count": 10,
   "metadata": {},
   "outputs": [],
   "source": [
    "sgData=pd.read_csv(\"listings.csv\")"
   ]
  },
  {
   "cell_type": "markdown",
   "metadata": {},
   "source": [
    "#### Preprocess data"
   ]
  },
  {
   "cell_type": "markdown",
   "metadata": {},
   "source": [
    "##### Change not a number value to zero"
   ]
  },
  {
   "cell_type": "code",
   "execution_count": 11,
   "metadata": {},
   "outputs": [
    {
     "name": "stdout",
     "output_type": "stream",
     "text": [
      "False\n"
     ]
    }
   ],
   "source": [
    "sgDataToZero = sgData.select_dtypes(include=[np.number])\n",
    "sgDataToZero = sgDataToZero.fillna(0)\n",
    "print(sgDataToZero.isna().values.any())"
   ]
  },
  {
   "cell_type": "markdown",
   "metadata": {},
   "source": [
    "##### Change not a number value to mean"
   ]
  },
  {
   "cell_type": "code",
   "execution_count": 12,
   "metadata": {},
   "outputs": [
    {
     "name": "stdout",
     "output_type": "stream",
     "text": [
      "False\n"
     ]
    }
   ],
   "source": [
    "sgDataToMean = sgData.select_dtypes(include=[np.number])\n",
    "mean = sgDataToMean.mean()\n",
    "sgDataToMean = sgDataToMean.fillna(mean)\n",
    "print(sgDataToMean.isna().values.any())"
   ]
  },
  {
   "cell_type": "markdown",
   "metadata": {},
   "source": [
    "### 3."
   ]
  },
  {
   "cell_type": "markdown",
   "metadata": {},
   "source": [
    "##### Calculate mean "
   ]
  },
  {
   "cell_type": "code",
   "execution_count": 13,
   "metadata": {},
   "outputs": [
    {
     "name": "stdout",
     "output_type": "stream",
     "text": [
      "id :  23388624.629568737\n",
      "host_id :  91144807.40533705\n",
      "latitude :  1.314192464904513\n",
      "longitude :  103.84878745794845\n",
      "price :  169.33299607942328\n",
      "minimum_nights :  17.510054382192994\n",
      "number_of_reviews :  12.807385860629822\n",
      "reviews_per_month :  0.6796319716706684\n",
      "calculated_host_listings_count :  40.60768938914885\n",
      "availability_365 :  208.72631845200456\n"
     ]
    }
   ],
   "source": [
    "for i in sgDataToZero:\n",
    "    print(i, \": \", sgDataToZero[i].mean())"
   ]
  },
  {
   "cell_type": "code",
   "execution_count": 14,
   "metadata": {},
   "outputs": [
    {
     "name": "stdout",
     "output_type": "stream",
     "text": [
      "id :  23388624.629568737\n",
      "host_id :  91144807.40533705\n",
      "latitude :  1.314192464904513\n",
      "longitude :  103.84878745794845\n",
      "price :  169.33299607942328\n",
      "minimum_nights :  17.510054382192994\n",
      "number_of_reviews :  12.807385860629822\n",
      "reviews_per_month :  1.0436686735289245\n",
      "calculated_host_listings_count :  40.60768938914885\n",
      "availability_365 :  208.72631845200456\n"
     ]
    }
   ],
   "source": [
    "for i in sgDataToMean:\n",
    "    print(i, \": \", sgDataToMean[i].mean())"
   ]
  },
  {
   "cell_type": "markdown",
   "metadata": {},
   "source": [
    "##### Calculate variance "
   ]
  },
  {
   "cell_type": "code",
   "execution_count": 15,
   "metadata": {},
   "outputs": [
    {
     "name": "stdout",
     "output_type": "stream",
     "text": [
      "id :  103310190502777.36\n",
      "host_id :  6709099893759819.0\n",
      "latitude :  0.0009349800983125476\n",
      "longitude :  0.0019074744053256827\n",
      "price :  115727.60260831242\n",
      "minimum_nights :  1771.9567354764006\n",
      "number_of_reviews :  882.5501705877178\n",
      "reviews_per_month :  1.3240641068855823\n",
      "calculated_host_listings_count :  4242.601195609099\n",
      "availability_365 :  21351.064476743264\n"
     ]
    }
   ],
   "source": [
    "for i in sgDataToZero:\n",
    "    print(i, \": \", sgDataToZero[i].var())"
   ]
  },
  {
   "cell_type": "code",
   "execution_count": 16,
   "metadata": {},
   "outputs": [
    {
     "name": "stdout",
     "output_type": "stream",
     "text": [
      "id :  103310190502777.36\n",
      "host_id :  6709099893759819.0\n",
      "latitude :  0.0009349800983125476\n",
      "longitude :  0.0019074744053256827\n",
      "price :  115727.60260831242\n",
      "minimum_nights :  1771.9567354764006\n",
      "number_of_reviews :  882.5501705877178\n",
      "reviews_per_month :  1.0766218313631537\n",
      "calculated_host_listings_count :  4242.601195609099\n",
      "availability_365 :  21351.064476743264\n"
     ]
    }
   ],
   "source": [
    "for i in sgDataToMean:\n",
    "    print(i, \": \", sgDataToMean[i].var())"
   ]
  },
  {
   "cell_type": "markdown",
   "metadata": {},
   "source": [
    "### 4."
   ]
  },
  {
   "cell_type": "markdown",
   "metadata": {},
   "source": [
    "Yes, there is a significant change between data that are replaced by zero and replaced by mean. When comparing both mean results and variance results from both data that are replaced by zero and mean, we can see that there  is a difference in reviews_per_month column. This is the only column that has a difference since the other columns do not have not a number value that can be replaced by either zero or mean.  "
   ]
  }
 ],
 "metadata": {
  "kernelspec": {
   "display_name": "Python 3",
   "language": "python",
   "name": "python3"
  },
  "language_info": {
   "codemirror_mode": {
    "name": "ipython",
    "version": 3
   },
   "file_extension": ".py",
   "mimetype": "text/x-python",
   "name": "python",
   "nbconvert_exporter": "python",
   "pygments_lexer": "ipython3",
   "version": "3.8.5"
  }
 },
 "nbformat": 4,
 "nbformat_minor": 4
}
